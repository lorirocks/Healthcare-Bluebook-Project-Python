{
 "cells": [
  {
   "cell_type": "markdown",
   "metadata": {},
   "source": [
    "## Main EDA file for teamwork - Team Phoenix\n",
    "- Team members\n",
    "    - Jack McCann (leader)\n",
    "    - Nicole Muldowney\n",
    "    - Teresa Whitesell\n",
    "    - Ari Khursheed\n",
    "    - Diego Alvarez\n",
    "    - Lori Butler"
   ]
  },
  {
   "cell_type": "markdown",
   "metadata": {},
   "source": [
    "## MVP\n",
    "\n",
    "**Question from HCBB Presentation, Goal #2:**  \n",
    "- Which procedures (HCPCS Codes) had the largest change in Average payment (using Average Medicare Allowed Amount, per pg 12 of HCBB presentation?\n",
    "- Which procedures (HCPCS Codes) had the largest change in Utilization (using Number of Distinct Medicare Beneficiary/Per Day Services)?   \n",
    " \n",
    "**Stretch goal:**   \n",
    "Include Hospitals in analysis. Remember to convert old APCs in the 2015 hospital file to match the 2016-2017 APC codes.   \n",
    "- APC is a group of related procedures (see pg 26 of HCBB presentation for more info).      \n",
    "    - All procedures within an APC are paid at the same rate.  \n",
    "    - Not every HCPCS/CPT code is assigned to an APC, but the most important ones are.  \n",
    "    - APCs were renumbered in 2016.    \n",
    "\n",
    "**MVP**  \n",
    "- Static charts and/or interactive dashboard showing answers to questions:  \n",
    "    - Largest Change in Ave. Payment over time  \n",
    "    - Largest Change in Utilization  \n",
    "        - Might also look at change in number of lives covered by Medicare as a whole, to see if there's useful information there (i.e., did utiliztaion go up or down at a faster rate than the number of covered beneficiaries?)   \n",
    "- Creat dashboard that allows user to select   \n",
    "    - A: specific HCPCS code/description (and maybe ACS for hospitals) change over the 3 years based on\n",
    "    - B: amount, or utilization "
   ]
  },
  {
   "cell_type": "markdown",
   "metadata": {},
   "source": [
    "## Naming conventions\n",
    "\n",
    "- **Columns:** Kept full name, replaced spaces and “/” with underscores. Otherwise kept the full column name without further edits\n",
    "\n",
    "Dataframes:  \n",
    "- **Initial DataFrames by year:**  \n",
    "    - df_payments_20yy\n",
    "- **Combined DataFrame** - concatenated, with separate row for each year (each NPI will have three rows):  \n",
    "    - df_payments_combined\n",
    "- **New Column for payment type description** (i..e, Doctor Only, Facility Only, or Doctor and Facility”\n",
    "    - Payment_type   \n",
    "\n",
    "\n",
    "- **New DataFrame to show average payment - concatenated** (year as value in ‘year’ column)\n",
    "    - df_avg_pmt\n",
    "- **New DataFrame to show average of the number_of_distinct_medicare_beneficiary_per_day_services**:\n",
    "    - df_med_services_day   \n",
    "\n",
    "\n",
    "- **New DataFrame to show average payment - pivoted** (year as column head)\n",
    "    - df_pmt_pvt\n",
    "- **Dataframe of unique beneficiaries per day pivoted by year**\n",
    "    - df_bpd_pvt\n"
   ]
  },
  {
   "cell_type": "markdown",
   "metadata": {},
   "source": [
    "## How we handled nulls\n",
    "\n",
    "##### All years: Discovered 427 rows have null in last name. \n",
    "- Researched this info on data.gov visualization tool. (See notes under dropped columns)\n",
    "- All other information was there (first name, middle initial). \n",
    "- Decided to KEEP these rows since all other columns that were meaningful to us were not null.\n",
    "\n",
    "##### 2015 - Problem with single row\n",
    "- Dropped one row that had irrelevant data in the last name field “CPT Copyright 2014….” and null values in all other columns.\n",
    "- Not relevant to our project, so we dropped that column (done in prior notebeook, \"step02...\""
   ]
  },
  {
   "cell_type": "code",
   "execution_count": null,
   "metadata": {},
   "outputs": [],
   "source": [
    "import pandas as pd\n",
    "import pickle\n",
    "from glob import glob\n",
    "import matplotlib.pyplot as plt\n",
    "import seaborn as sns\n",
    "import numpy as np"
   ]
  },
  {
   "cell_type": "markdown",
   "metadata": {},
   "source": [
    "## Read in Combined DataFrame\n",
    "\n",
    "This combined df has already eliminted the one irrelevant row from 2015, and has added a column for payment_type (Doctor Only, Facility Only, Doctor & Facility)."
   ]
  },
  {
   "cell_type": "code",
   "execution_count": null,
   "metadata": {},
   "outputs": [],
   "source": [
    "df_payments_combined = pd.read_pickle('../data/pickled_files/payments_combined.pkl')\n",
    "print(df_payments_combined.shape)\n"
   ]
  },
  {
   "cell_type": "code",
   "execution_count": null,
   "metadata": {},
   "outputs": [],
   "source": [
    "df_payments_combined.head()"
   ]
  },
  {
   "cell_type": "code",
   "execution_count": null,
   "metadata": {},
   "outputs": [],
   "source": [
    "# To export file to .csv for the purpose of creating visualizations in Tableau\n",
    "\n",
    "df_payments_combined.to_csv('../data/pickled_files/payments_combined.csv', index = False)"
   ]
  },
  {
   "cell_type": "code",
   "execution_count": null,
   "metadata": {},
   "outputs": [],
   "source": []
  },
  {
   "cell_type": "code",
   "execution_count": null,
   "metadata": {},
   "outputs": [],
   "source": []
  },
  {
   "cell_type": "markdown",
   "metadata": {},
   "source": [
    "## EDA of combined file"
   ]
  },
  {
   "cell_type": "code",
   "execution_count": null,
   "metadata": {},
   "outputs": [],
   "source": [
    "df_payments_combined.shape"
   ]
  },
  {
   "cell_type": "code",
   "execution_count": null,
   "metadata": {},
   "outputs": [],
   "source": [
    "df_payments_combined.columns"
   ]
  },
  {
   "cell_type": "code",
   "execution_count": null,
   "metadata": {},
   "outputs": [],
   "source": [
    "df_payments_combined.head()"
   ]
  },
  {
   "cell_type": "code",
   "execution_count": null,
   "metadata": {},
   "outputs": [],
   "source": [
    "df_payments_combined.info()"
   ]
  },
  {
   "cell_type": "code",
   "execution_count": null,
   "metadata": {},
   "outputs": [],
   "source": [
    "# To look ta count of null values\n",
    "\n",
    "df_payments_combined.isnull().sum()\n",
    "\n",
    "\n",
    "# Results are as expeceted. We researched the 427 last name/org name nulls as a team earlier\n",
    "# They don't have last/org name, many had first name (which we didn't import), yet all of them\n",
    "# had full data in all other fields. We chose to keep the 427 rows with null last names\n",
    "# since none of our final reporting requires knowing the name.\n"
   ]
  },
  {
   "cell_type": "code",
   "execution_count": null,
   "metadata": {},
   "outputs": [],
   "source": [
    "# To see the number of unique values of HCPCS codecodes  \n",
    "\n",
    "count_of_codes = df_payments_combined.hcpcs_code.nunique()\n",
    "print(\"There are\", count_of_codes, \"unique HCPCS codes in 2015-2017\")"
   ]
  },
  {
   "cell_type": "code",
   "execution_count": null,
   "metadata": {},
   "outputs": [],
   "source": [
    "# Statistics for number_of_services column. \n",
    "# Range from 2.4M to 7.1M min/max\n",
    "\n",
    "# NOTABLE: \n",
    "#  Statistics for number_of_services column:  \n",
    "#  Big difference between mean 2.4M and 50th percentile (median) 4.4M. \n",
    "\n",
    "df_payments_combined.number_of_services.describe()  "
   ]
  },
  {
   "cell_type": "code",
   "execution_count": null,
   "metadata": {},
   "outputs": [],
   "source": [
    "df_payments_combined.number_of_medicare_beneficiaries.describe()"
   ]
  },
  {
   "cell_type": "code",
   "execution_count": null,
   "metadata": {},
   "outputs": [],
   "source": [
    "df_payments_combined.number_of_distinct_medicare_beneficiary_per_day_services.describe()"
   ]
  },
  {
   "cell_type": "code",
   "execution_count": null,
   "metadata": {},
   "outputs": [],
   "source": [
    "df_payments_combined.average_medicare_allowed_amount.describe()"
   ]
  },
  {
   "cell_type": "code",
   "execution_count": null,
   "metadata": {},
   "outputs": [],
   "source": [
    "# Checking the min in above number...\n",
    "# 6.03538e-05 = 6.035380 x 10^-05 = 0.00006035380\n",
    "# Used converter here: https://www.calculatorsoup.com/calculators/math/scientific-notation-converter.php\n",
    "\n",
    "df_payments_combined.average_medicare_allowed_amount.min()"
   ]
  },
  {
   "cell_type": "code",
   "execution_count": null,
   "metadata": {},
   "outputs": [],
   "source": [
    "# Tried to make plot. Takes too long. This doesn't run. Takes too long\n",
    "# df_payments_2015to2017.plot()"
   ]
  },
  {
   "cell_type": "markdown",
   "metadata": {},
   "source": [
    "## Notable findings from EDA\n",
    "### Update: These were all resolved/researched. None caused problems with the findings we are trying to discover.\n",
    "- Statistics for number_of_services column:  \n",
    "    - Big difference between mean (average) and median (50th percentile) in these columns:\n",
    "        - number_of_services\n",
    "        - number_of_medicare_beneficiaries\n",
    "        - number_of_distinct_medicare_beneficiary_per_day_services\n",
    "        - average_medicare_allowed_amount\n",
    "\n",
    "    - Average medicare allowed amount's minimum is less that 1 cent. That seems odd.\n",
    "    \n",
    "===================================================================================\n"
   ]
  },
  {
   "cell_type": "code",
   "execution_count": null,
   "metadata": {},
   "outputs": [],
   "source": [
    "df_payments_combined.number_of_services.describe()"
   ]
  },
  {
   "cell_type": "code",
   "execution_count": null,
   "metadata": {},
   "outputs": [],
   "source": [
    "df_payments_combined.number_of_distinct_medicare_beneficiary_per_day_services.describe()"
   ]
  },
  {
   "cell_type": "code",
   "execution_count": null,
   "metadata": {},
   "outputs": [],
   "source": [
    "df_payments_combined.average_medicare_allowed_amount.describe()"
   ]
  },
  {
   "cell_type": "markdown",
   "metadata": {},
   "source": [
    "# Thursday - new approach with Ari & Teresa\n",
    "\n",
    "## Creating new df showing average payment by year, then by payment type, then by HCPCS code.  (Code from Nicole, from earlier in the week)\n",
    "\n",
    "- **WEDNESDAY 6/3:** \n",
    "    - Team was still struggline this morning to get the data to work in Tableau (and had similar issues when I attempted to work with it in Power BI). We had been working with the full combined df.\n",
    "        - We started by using the pivoted table (with a separate column for each year - with the year in the column header, not as a value in the table)\n",
    "        - That didn't work, so yesterday we also tried using the combined df that had a single column for year, with the year 2015, 2016, 2017 as a value in the table. This worked a little better in Tableau, but there were still problems caused by trying to do the difference calculation in Tableau then also using it in a chart.\n",
    "        - There was also a problem of trying to figure out how to find the **absolute** largest change, regardless of positive or negative.\n",
    "    \n",
    "- **THURSDAY 6/4:** \n",
    "    - We split up into teams, with Ari, Teresa and I going back to Tableau with a couple ideas to try; and Nicole, Diego and Jack continuing to work in Tableau. Both sub-teams are not working on both questins (amount and utilization), trying to come up with a method to create the calculated differences we need.\n",
    "    - Ari and Teresa took the approach of using the initial df_avg_pmt and pivoting it to create columns for 2015, 2016, 2017, then calculating the differences between years.\n",
    "    - For comparison and validation, I took an alternate approach (that was suggested by Mahesh) of splitting the df_avg_pmt into 3 different dfs, by year; then merging just 2015 and 2017; then calculating the difference.\n",
    "        - I successfully split the df_avg_pmt into 3 dfs by year, and renamed columns. My df had the same number of rows as the df that Ari and Teresa had (total of 8379 rows), so that part worked to validate the results. \n",
    "            - The 8379 rows are the rows that had values in both 2015 and 2017.\n",
    "            - Mahesh had said that it was appropriate to use ONLY those years because it answers the specific business question that was asked (difference between 2015 to 2017).\n",
    "        - I ran into difficulties when trying to merge and create the calculated columns. At that point I rejoined Ari and Teresa and we got their df to work. \n",
    "\n",
    "## Next steps, Friday 6/5:\n",
    "- With Ari, Teresa and me: Create total of 4 new dfs: \n",
    "    - df_pmt_melt_amt = 2-year change in ALLOWED AMOUNT, by AMOUNT\n",
    "    - df_pmt_melt_pct = 2-year change in ALLOWED AMOUNT, by PERCENT\n",
    "    - df_util_melt_number = 2-year change in BEN/DAY SERVICES, by NUMBER\n",
    "    - df_util_melt_pct = 2-year change in BEN/DAY SERVICES, by PERCENT"
   ]
  },
  {
   "cell_type": "code",
   "execution_count": null,
   "metadata": {},
   "outputs": [],
   "source": [
    "# New approach Thursday: \n",
    "# STEP 1 create df_avg_pmt with only 4 columns, for all years\n",
    "\n",
    "df_avg_pmt = df_payments_combined.groupby(['year',\n",
    "                                           'payment_type',\n",
    "                                           'hcpcs_code']).average_medicare_allowed_amount.mean().to_frame().reset_index()"
   ]
  },
  {
   "cell_type": "code",
   "execution_count": null,
   "metadata": {},
   "outputs": [],
   "source": [
    "df_avg_pmt.head()"
   ]
  },
  {
   "cell_type": "code",
   "execution_count": null,
   "metadata": {},
   "outputs": [],
   "source": [
    "# STEP 2: New df for 2015\n",
    "\n",
    "df_avg_pmt_2015 = df_avg_pmt.loc[df_avg_pmt['year'] == 2015]\n",
    "df_avg_pmt_2015.head()"
   ]
  },
  {
   "cell_type": "code",
   "execution_count": null,
   "metadata": {},
   "outputs": [],
   "source": [
    "df_avg_pmt_2015.columns = ['2015_year', 'payment_type', 'hcpcs_code', '2015_avg_medicare_allowed_amt']\n",
    "df_avg_pmt_2015.head()"
   ]
  },
  {
   "cell_type": "code",
   "execution_count": null,
   "metadata": {},
   "outputs": [],
   "source": [
    "# STEP 2: New df for 2016\n",
    "\n",
    "df_avg_pmt_2016 = df_avg_pmt.loc[df_avg_pmt['year'] == 2016]\n",
    "df_avg_pmt_2016.head(2)"
   ]
  },
  {
   "cell_type": "code",
   "execution_count": null,
   "metadata": {},
   "outputs": [],
   "source": [
    "df_avg_pmt_2016.columns = ['2016_year', 'payment_type', 'hcpcs_code', '2016_avg_medicare_allowed_amt']\n",
    "df_avg_pmt_2016.head(2)"
   ]
  },
  {
   "cell_type": "code",
   "execution_count": null,
   "metadata": {},
   "outputs": [],
   "source": [
    "# STEP 2: New df for 2017\n",
    "\n",
    "df_avg_pmt_2017 = df_avg_pmt.loc[df_avg_pmt['year'] == 2017]\n",
    "df_avg_pmt_2017.head(2)"
   ]
  },
  {
   "cell_type": "code",
   "execution_count": null,
   "metadata": {
    "scrolled": true
   },
   "outputs": [],
   "source": [
    "df_avg_pmt_2017.columns = ['2015_year', 'payment_type', 'hcpcs_code', '2017_avg_medicare_allowed_amt']\n",
    "df_avg_pmt_2017.head(2)"
   ]
  },
  {
   "cell_type": "code",
   "execution_count": null,
   "metadata": {},
   "outputs": [],
   "source": [
    "# Coming at the same thing Teresa and Ari are working on, and did get same result\n",
    "# Total of 8379 rows on df that only has amounts in 2015 and 2017.\n",
    "# Next step is to get the difference between 2015 and 2017.\n",
    "\n",
    "df_avg_pmt_merge = pd.merge(df_avg_pmt_2015,\n",
    "                            df_avg_pmt_2017,\n",
    "                            how='inner',\n",
    "                            on=['hcpcs_code',\n",
    "                                'payment_type']\n",
    "                           )\n",
    "print(df_avg_pmt_merge.shape)\n",
    "df_avg_pmt_merge.head(2)"
   ]
  },
  {
   "cell_type": "code",
   "execution_count": null,
   "metadata": {},
   "outputs": [],
   "source": [
    "df_avg_pmt_merge.rename(columns = {'2015_year_x' : '2015'})\n",
    "#                            'payment_type',\n",
    "#                            'hcpcs_code',\n",
    "#                            '2015_avg_medicare_allowed_amt',\n",
    "#                            '2017',\n",
    "#                            '2017_avg_medicare_allowed_amt'}\n",
    "df_avg_pmt_merge.head(2)"
   ]
  },
  {
   "cell_type": "code",
   "execution_count": null,
   "metadata": {},
   "outputs": [],
   "source": [
    "df_avg_pmt_merge['change_2017_2015'] = df_avg_pmt_merge['2017_avg_medicare_allowed_amt'] - df_avg_pmt_merge['2015_avg_medicare_allowed_amt']\n",
    "df_avg_pmt_merge.head(2)"
   ]
  },
  {
   "cell_type": "markdown",
   "metadata": {},
   "source": [
    "## End of work on Thursday 6/4/2020.  The code below is from work on prior days."
   ]
  },
  {
   "cell_type": "code",
   "execution_count": null,
   "metadata": {},
   "outputs": [],
   "source": []
  },
  {
   "cell_type": "code",
   "execution_count": null,
   "metadata": {},
   "outputs": [],
   "source": []
  },
  {
   "cell_type": "code",
   "execution_count": null,
   "metadata": {},
   "outputs": [],
   "source": [
    "# To reset index\n",
    "\n",
    "df_avg_pmt = df_avg_pmt.reset_index()"
   ]
  },
  {
   "cell_type": "code",
   "execution_count": null,
   "metadata": {},
   "outputs": [],
   "source": [
    "df_avg_pmt.head()"
   ]
  },
  {
   "cell_type": "code",
   "execution_count": null,
   "metadata": {},
   "outputs": [],
   "source": [
    "df_median_pmt = df_payments_combined.groupby(['year',\n",
    "                                           'payment_type',\n",
    "                                           'hcpcs_code']).average_medicare_allowed_amount.median().to_frame()"
   ]
  },
  {
   "cell_type": "code",
   "execution_count": null,
   "metadata": {},
   "outputs": [],
   "source": [
    "# To reset index\n",
    "\n",
    "df_median_pmt = df_median_pmt.reset_index()"
   ]
  },
  {
   "cell_type": "code",
   "execution_count": null,
   "metadata": {},
   "outputs": [],
   "source": []
  },
  {
   "cell_type": "code",
   "execution_count": null,
   "metadata": {},
   "outputs": [],
   "source": []
  },
  {
   "cell_type": "markdown",
   "metadata": {},
   "source": [
    "### Creating pivot table from above, to get one row per HPCPS by year/pmt type"
   ]
  },
  {
   "cell_type": "code",
   "execution_count": null,
   "metadata": {},
   "outputs": [],
   "source": [
    "pivot_index = ['payment_type',\n",
    "               'hcpcs_code', \n",
    "               'average_medicare_allowed_amount'\n",
    "              ]\n",
    "\n",
    "pivot_cols = ['year']"
   ]
  },
  {
   "cell_type": "code",
   "execution_count": null,
   "metadata": {},
   "outputs": [],
   "source": [
    "%%time\n",
    "df_median_pmt_pvt = df_median_pmt.pivot_table(index = pivot_index, \n",
    "                                              columns = pivot_cols, \n",
    "                                              values = 'average_medicare_allowed_amount', \n",
    "                                              aggfunc=np.median)\n",
    "df_median_pmt_pvt = df_median_pmt.reset_index()"
   ]
  },
  {
   "cell_type": "markdown",
   "metadata": {},
   "source": [
    "### Creating new df showing average count (# distinct med. beneficiary/per day services) by year, then by payment type, then by HCPCS code.  (Code from Nicole)"
   ]
  },
  {
   "cell_type": "code",
   "execution_count": null,
   "metadata": {},
   "outputs": [],
   "source": [
    "df_med_services_day = df_payments_combined.groupby(['year',\n",
    "                                                    'hcpcs_code']).number_of_distinct_medicare_beneficiary_per_day_services.mean().to_frame().reset_index()"
   ]
  },
  {
   "cell_type": "code",
   "execution_count": null,
   "metadata": {
    "scrolled": true
   },
   "outputs": [],
   "source": [
    "df_med_services_day.head()"
   ]
  },
  {
   "cell_type": "code",
   "execution_count": null,
   "metadata": {},
   "outputs": [],
   "source": [
    "# Still seeing wide variance between mean and median (50th percentile). \n",
    "# Need to look for outliers before plotting.\n",
    "\n",
    "df_avg_pmt.describe()"
   ]
  },
  {
   "cell_type": "code",
   "execution_count": null,
   "metadata": {},
   "outputs": [],
   "source": [
    "# Still seeing wide variance between mean and median (50th percentile). \n",
    "# Need to look for outliers before plotting.\n",
    "\n",
    "df_med_services_day.describe()"
   ]
  },
  {
   "cell_type": "markdown",
   "metadata": {},
   "source": [
    "### Started new notebook named step04_eda_and_analysis. \n",
    "- Worked with Teresa on that notebook, attempting to get to the point of calculating the variance between 2015 and 2017."
   ]
  },
  {
   "cell_type": "code",
   "execution_count": null,
   "metadata": {},
   "outputs": [],
   "source": []
  }
 ],
 "metadata": {
  "kernelspec": {
   "display_name": "Python 3",
   "language": "python",
   "name": "python3"
  },
  "language_info": {
   "codemirror_mode": {
    "name": "ipython",
    "version": 3
   },
   "file_extension": ".py",
   "mimetype": "text/x-python",
   "name": "python",
   "nbconvert_exporter": "python",
   "pygments_lexer": "ipython3",
   "version": "3.7.3"
  }
 },
 "nbformat": 4,
 "nbformat_minor": 2
}
