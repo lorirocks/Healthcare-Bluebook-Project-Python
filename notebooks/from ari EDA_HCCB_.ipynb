{
 "cells": [
  {
   "cell_type": "code",
   "execution_count": null,
   "metadata": {},
   "outputs": [],
   "source": [
    "import pandas as pd\n",
    "import numpy as np\n",
    "import matplotlib.pyplot as plt\n",
    "import seaborn as sns"
   ]
  },
  {
   "cell_type": "markdown",
   "metadata": {},
   "source": [
    "# Read in the file where all years are combined 2015-2017"
   ]
  },
  {
   "cell_type": "code",
   "execution_count": null,
   "metadata": {},
   "outputs": [],
   "source": [
    "df_payments_combined=pd.read_pickle('../data/combined_years_payments.pkl')"
   ]
  },
  {
   "cell_type": "code",
   "execution_count": null,
   "metadata": {
    "scrolled": false
   },
   "outputs": [],
   "source": [
    "df_payments_combined.head()"
   ]
  },
  {
   "cell_type": "code",
   "execution_count": null,
   "metadata": {},
   "outputs": [],
   "source": [
    "print(df_payments_combined.shape)"
   ]
  },
  {
   "cell_type": "markdown",
   "metadata": {},
   "source": [
    "# Add a category column to the dataframe according to the condition:\n",
    "    -when Entity=I&POS= F then \"Doctor only\"\n",
    "    -when Entity= O & POS=F then \"Facility only\"\n",
    "    -when Entity= I & POS=O then \"Doctor & Facility\"\n",
    "    -when Entity= 0 & POS=0 then \"Doctor & Facility\""
   ]
  },
  {
   "cell_type": "code",
   "execution_count": null,
   "metadata": {},
   "outputs": [],
   "source": [
    "#add a category column to the dataframe (code from Diego)\n",
    "conditions = [(df_payments_combined.place_of_service == \"O\"),\n",
    "             (df_payments_combined.entity_type_of_the_provider == \"I\") & (df_payments_combined.place_of_service == \"F\"),\n",
    "             (df_payments_combined.entity_type_of_the_provider == \"O\") & (df_payments_combined.place_of_service == \"F\")\n",
    "            ]\n",
    "choices = [\"Doctor & Facility\" , 'Doctor only', 'Facility only']\n",
    "\n",
    "#add column and call the condition\n",
    "df_payments_combined[\"payment_type\"] = np.select(conditions, choices, default = \"unknown\")"
   ]
  },
  {
   "cell_type": "code",
   "execution_count": null,
   "metadata": {},
   "outputs": [],
   "source": [
    "#this approach takes longer time\n",
    "#add column to the dataframe\n",
    "'''def label_type (row):\n",
    "   if (row['entity_type_of_the_provider'] == 'I') and (row['place_of_service'] == 'F'):\n",
    "      return \"Doctor only\"\n",
    "   if (row['entity_type_of_the_provider'] == 'O') and (row['place_of_service'] == 'F'):\n",
    "      return \"Facility Only\"\n",
    "   if (row['entity_type_of_the_provider'] == 'I') and (row['place_of_service'] == 'O'):\n",
    "      return \"Doctor and Facility\"\n",
    "   if (row['entity_type_of_the_provider'] == 'O') and (row['place_of_service'] == 'O'):\n",
    "      return \"Doctor and Facility\"\n",
    "   else:\n",
    "      return \"Unknown\"\n",
    "\n",
    "df_payments_combined = df_payments_combined.assign(payment_type=df_payments_combined.apply(label_type, axis=1))'''"
   ]
  },
  {
   "cell_type": "code",
   "execution_count": null,
   "metadata": {},
   "outputs": [],
   "source": [
    "df_payments_combined.head()"
   ]
  },
  {
   "cell_type": "code",
   "execution_count": null,
   "metadata": {},
   "outputs": [],
   "source": [
    "df_payments_combined.to_csv('../data/allyearscombined.csv') #read it to file, to do tableau viztualization "
   ]
  },
  {
   "cell_type": "markdown",
   "metadata": {},
   "source": [
    "# Payments_type Analysis"
   ]
  },
  {
   "cell_type": "markdown",
   "metadata": {},
   "source": [
    "Average payments for the grouped by columns"
   ]
  },
  {
   "cell_type": "markdown",
   "metadata": {},
   "source": [
    "## UPDATE FRIDAY  6/5/2020. DON'T USE df_avg_pmt FILE. It contains many duplicates\n",
    "- There are about 6,700 unique HCPCS codes. But there are 11k+ Doctor & Facility line items, grouped by HCPCS code per year. That number should be equal to or less than the total number of HCPCS codes.\n",
    "\n"
   ]
  },
  {
   "cell_type": "code",
   "execution_count": null,
   "metadata": {},
   "outputs": [],
   "source": [
    "df_avg_pmt = df_payments_combined.groupby(['year',\n",
    "                                           'payment_type',\n",
    "                                           'hcpcs_code']).average_medicare_allowed_amount.mean().to_frame()\n",
    "df_avg_pmt.head().reset_index()"
   ]
  },
  {
   "cell_type": "code",
   "execution_count": null,
   "metadata": {},
   "outputs": [],
   "source": [
    "#pivot the year column\n",
    "pivot_index = ['payment_type',\n",
    "               'hcpcs_code',]\n",
    "\n",
    "df_avg_pmt_pvt = df_avg_pmt.pivot_table(index = pivot_index,\n",
    "                                                         columns='year',\n",
    "                                                         values='average_medicare_allowed_amount').reset_index()\n",
    "\n",
    "#turn the table to dataframe in order to change the the type of column names to 'object'\n",
    "df_avg_pmt_pvt = pd.DataFrame(df_avg_pmt_pvt)\n",
    "df_avg_pmt_pvt.head()"
   ]
  },
  {
   "cell_type": "code",
   "execution_count": null,
   "metadata": {},
   "outputs": [],
   "source": [
    "df_avg_pmt_pvt['change_2016_2015']= df_avg_pmt_pvt[2016]- df_avg_pmt_pvt[2015]\n",
    "df_avg_pmt_pvt['change_2017_2016']= df_avg_pmt_pvt[2017]- df_avg_pmt_pvt[2016]\n",
    "df_avg_pmt_pvt['change_2017_2015']= df_avg_pmt_pvt[2017]- df_avg_pmt_pvt[2015]"
   ]
  },
  {
   "cell_type": "code",
   "execution_count": null,
   "metadata": {},
   "outputs": [],
   "source": [
    "df_avg_pmt_pvt.head()"
   ]
  },
  {
   "cell_type": "code",
   "execution_count": null,
   "metadata": {},
   "outputs": [],
   "source": [
    "df_avg_pmt_pvt= df_avg_pmt_pvt[df_avg_pmt_pvt[2015].notna()]\n",
    "df_avg_pmt_pvt= df_avg_pmt_pvt[df_avg_pmt_pvt[2017].notna()]"
   ]
  },
  {
   "cell_type": "code",
   "execution_count": null,
   "metadata": {},
   "outputs": [],
   "source": [
    "df_avg_pmt_pvt.info()"
   ]
  },
  {
   "cell_type": "code",
   "execution_count": null,
   "metadata": {},
   "outputs": [],
   "source": [
    "df_avg_pmt_pvt.head()"
   ]
  },
  {
   "cell_type": "code",
   "execution_count": null,
   "metadata": {},
   "outputs": [],
   "source": [
    "#melt the dataframe\n",
    "col=[2015, 2016, 2017]\n",
    "change= ['change_2016_2015', 'change_2017_2016','change_2017_2015']\n",
    "df_avg_pmt_pvt_melt = df_avg_pmt_pvt.melt(df_avg_pmt_pvt,\n",
    "                                                         id_vars= ['payment_type'],\n",
    "                                                         value_vars= [(col)],\n",
    "                                                         var_name= [('year')]\n",
    "                                         )"
   ]
  },
  {
   "cell_type": "code",
   "execution_count": null,
   "metadata": {},
   "outputs": [],
   "source": [
    "df_avg_pmt_melt= pd.melt(df_avg_pmt_pvt,\n",
    "                                                         id_vars= ['payment_type','hcpcs_code'],\n",
    "                                                         value_vars= ['change_2016_2015','change_2017_2016','change_2017_2015'],\n",
    "                                                         var_name= 'change'\n",
    "                                         )"
   ]
  },
  {
   "cell_type": "code",
   "execution_count": null,
   "metadata": {},
   "outputs": [],
   "source": [
    "df_avg_pmt_melt.head()"
   ]
  },
  {
   "cell_type": "code",
   "execution_count": null,
   "metadata": {},
   "outputs": [],
   "source": []
  },
  {
   "cell_type": "code",
   "execution_count": null,
   "metadata": {},
   "outputs": [],
   "source": [
    "df_payments_combined_1.sort_values('Doctor & Facility', ascending=False).head(10).reset_index()"
   ]
  },
  {
   "cell_type": "code",
   "execution_count": null,
   "metadata": {},
   "outputs": [],
   "source": [
    "df_avg_pmt.to_csv('../data/yearsPaymentTypeCode.csv') #read it to file, to do tableau viztualization "
   ]
  },
  {
   "cell_type": "code",
   "execution_count": null,
   "metadata": {},
   "outputs": [],
   "source": [
    "df_payments_combined_1 = df_avg_pmt.groupby(['year','hcpcs_code','payment_type']).mean().squeeze().unstack()"
   ]
  },
  {
   "cell_type": "code",
   "execution_count": null,
   "metadata": {},
   "outputs": [],
   "source": [
    "df_payments_combined_1.head()"
   ]
  },
  {
   "cell_type": "code",
   "execution_count": null,
   "metadata": {},
   "outputs": [],
   "source": [
    "df_payments_combined_1.sort_values('Doctor & Facility', ascending=False).head(10).reset_index()\n"
   ]
  },
  {
   "cell_type": "code",
   "execution_count": null,
   "metadata": {},
   "outputs": [],
   "source": [
    "df_payments_combined_1.reset_index(level=0, inplace=True)"
   ]
  },
  {
   "cell_type": "code",
   "execution_count": null,
   "metadata": {},
   "outputs": [],
   "source": [
    "df_payments_combined_1.reset_index(level=0, inplace=True)"
   ]
  },
  {
   "cell_type": "code",
   "execution_count": null,
   "metadata": {},
   "outputs": [],
   "source": [
    "df_new"
   ]
  },
  {
   "cell_type": "code",
   "execution_count": null,
   "metadata": {},
   "outputs": [],
   "source": [
    "df_new_filter= df_new[['year','hcpcs_code','Doctor & Facility']]"
   ]
  },
  {
   "cell_type": "code",
   "execution_count": null,
   "metadata": {},
   "outputs": [],
   "source": [
    "df_new_filter.head()"
   ]
  },
  {
   "cell_type": "code",
   "execution_count": null,
   "metadata": {},
   "outputs": [],
   "source": [
    "df_max_doctor_and_facility = df_new_filter.sort_values('Doctor & Facility', ascending=False).head(10)\n",
    "df_max_doctor_and_facility"
   ]
  },
  {
   "cell_type": "code",
   "execution_count": null,
   "metadata": {},
   "outputs": [],
   "source": [
    "duplicateDFRow = df_max_doctor_and_facility[df_max_doctor_and_facility.duplicated(['hcpcs_code'], keep = False)]\n",
    "duplicateDFRow"
   ]
  },
  {
   "cell_type": "code",
   "execution_count": null,
   "metadata": {},
   "outputs": [],
   "source": [
    "df_new_doctor_only= df_new[['year','hcpcs_code','Doctor only']]"
   ]
  },
  {
   "cell_type": "code",
   "execution_count": null,
   "metadata": {},
   "outputs": [],
   "source": [
    "df_max_doctor_only = df_new_doctor_only.sort_values('Doctor only', ascending=False).head(10)\n",
    "df_max_doctor_only"
   ]
  },
  {
   "cell_type": "code",
   "execution_count": null,
   "metadata": {},
   "outputs": [],
   "source": [
    "duplicateDFRow2 = df_max_doctor_only[df_max_doctor_only.duplicated(['hcpcs_code'], keep = False)]\n",
    "duplicateDFRow2"
   ]
  },
  {
   "cell_type": "code",
   "execution_count": null,
   "metadata": {
    "scrolled": true
   },
   "outputs": [],
   "source": [
    "df_new_Facility_only= df_new[['year','hcpcs_code','Facility only']]\n",
    "df_max_Facility_only = df_new_Facility_only.sort_values('Facility only', ascending=False).head(10)\n",
    "df_max_Facility_only"
   ]
  },
  {
   "cell_type": "markdown",
   "metadata": {},
   "source": [
    "# Number of Beneficiary_Per Day analysis "
   ]
  },
  {
   "cell_type": "code",
   "execution_count": null,
   "metadata": {},
   "outputs": [],
   "source": [
    "df_payments_combined.head()"
   ]
  },
  {
   "cell_type": "markdown",
   "metadata": {},
   "source": [
    "Subset the dataframe to use the wanted columns"
   ]
  },
  {
   "cell_type": "code",
   "execution_count": null,
   "metadata": {},
   "outputs": [],
   "source": [
    "df_beneficiary_day=df_payments_combined[['year',\n",
    "                       'national_provider_identifier',\n",
    "                       'hcpcs_code',\n",
    "                       'number_of_distinct_medicare_beneficiary_per_day_services'\n",
    "                      \n",
    "]]"
   ]
  },
  {
   "cell_type": "code",
   "execution_count": null,
   "metadata": {},
   "outputs": [],
   "source": [
    "df_beneficiary_day.head()"
   ]
  },
  {
   "cell_type": "code",
   "execution_count": null,
   "metadata": {},
   "outputs": [],
   "source": [
    "#count null \n",
    "df_beneficiary_day['number_of_distinct_medicare_beneficiary_per_day_services'].isnull().value_counts()"
   ]
  },
  {
   "cell_type": "code",
   "execution_count": null,
   "metadata": {},
   "outputs": [],
   "source": [
    "#sort by the largest beneficiary/day\n",
    "df_beneficiary_day= df_beneficiary_day.sort_values('number_of_distinct_medicare_beneficiary_per_day_services',\n",
    "                                                        ascending=False)"
   ]
  },
  {
   "cell_type": "code",
   "execution_count": null,
   "metadata": {},
   "outputs": [],
   "source": [
    "df_beneficiary_day.head()"
   ]
  },
  {
   "cell_type": "code",
   "execution_count": null,
   "metadata": {},
   "outputs": [],
   "source": [
    "print(df_beneficiary_day.shape)"
   ]
  },
  {
   "cell_type": "code",
   "execution_count": null,
   "metadata": {},
   "outputs": [],
   "source": [
    "#sort all rows for the same hcpcs_code\n",
    "df_beneficiary_day[df_beneficiary_day.duplicated(['hcpcs_code'],\n",
    "                                                     keep = False)].head()\n"
   ]
  },
  {
   "cell_type": "code",
   "execution_count": null,
   "metadata": {},
   "outputs": [],
   "source": [
    "print(df_beneficiary_day.shape)"
   ]
  },
  {
   "cell_type": "code",
   "execution_count": null,
   "metadata": {},
   "outputs": [],
   "source": [
    "#find mean of beficiary for hcpcs_code in every year\n",
    "result = df_beneficiary_day.groupby(['year',\n",
    "                                     'hcpcs_code'\n",
    "                                     #'number_of_distinct_medicare_beneficiary_per_day_services',\n",
    "                                    # 'payment_type'\n",
    "                                    ])['number_of_distinct_medicare_beneficiary_per_day_services'].agg(['sum'])\n",
    "result.reset_index()"
   ]
  },
  {
   "cell_type": "code",
   "execution_count": null,
   "metadata": {},
   "outputs": [],
   "source": [
    "result.to_csv('../data/allyearscombined_2.csv') #read it to file, to do tableau viztualization "
   ]
  },
  {
   "cell_type": "code",
   "execution_count": null,
   "metadata": {},
   "outputs": [],
   "source": [
    "#get largest rows of hcpcs_code by beneficiary/day\n",
    "df_beneficiary_Max =result.sort_values('sum',\n",
    "                                        ascending=False)\n",
    "df_beneficiary_Max.reset_index()"
   ]
  },
  {
   "cell_type": "code",
   "execution_count": null,
   "metadata": {},
   "outputs": [],
   "source": [
    "#drop na from mean column\n",
    "df_beneficiary_Max= df_beneficiary_Max[df_beneficiary_Max['mean'].notna()].reset_index()"
   ]
  },
  {
   "cell_type": "markdown",
   "metadata": {},
   "source": [
    "Pivot table"
   ]
  },
  {
   "cell_type": "code",
   "execution_count": null,
   "metadata": {
    "scrolled": true
   },
   "outputs": [],
   "source": [
    "#pivot the year column\n",
    "pivot_index = [\n",
    "               'hcpcs_code',]\n",
    "\n",
    "df_beneficiary_day_pivot = result.pivot_table(index=pivot_index,\n",
    "                                                         columns='year',\n",
    "                                                         values='sum').reset_index()\n",
    "\n",
    "#turn the table to dataframe in order to change the the type of column names to 'object'\n",
    "df_beneficiary_day_pivot = pd.DataFrame(df_beneficiary_day_pivot)\n",
    "df_beneficiary_day_pivot.head()"
   ]
  },
  {
   "cell_type": "code",
   "execution_count": null,
   "metadata": {},
   "outputs": [],
   "source": [
    "df_beneficiary_day_pivot.columns"
   ]
  },
  {
   "cell_type": "code",
   "execution_count": null,
   "metadata": {},
   "outputs": [],
   "source": [
    "print(df_beneficiary_day_pivot.shape)"
   ]
  },
  {
   "cell_type": "code",
   "execution_count": null,
   "metadata": {},
   "outputs": [],
   "source": [
    "#drop na from the years column to get only hcpcs_code appears in all years\n",
    "#df_beneficiary_day_pivot_2 = df_beneficiary_day_pivot.fillna(0)"
   ]
  },
  {
   "cell_type": "code",
   "execution_count": null,
   "metadata": {},
   "outputs": [],
   "source": [
    "#add tow columns to calculate changes in beneficiary per day\n",
    "df_beneficiary_day_pivot['change_2017_2015']= df_beneficiary_day_pivot[2017] - df_beneficiary_day_pivot[2015] \n",
    "df_beneficiary_day_pivot['change_2016_2015']= df_beneficiary_day_pivot[2016] - df_beneficiary_day_pivot[2015]"
   ]
  },
  {
   "cell_type": "code",
   "execution_count": null,
   "metadata": {},
   "outputs": [],
   "source": [
    "df_beneficiary_day_pivot"
   ]
  },
  {
   "cell_type": "code",
   "execution_count": null,
   "metadata": {},
   "outputs": [],
   "source": [
    "#sort by the largest in 2015\n",
    "df_beneficiary_day_pivot_2.sort_values(2015, ascending=False)"
   ]
  },
  {
   "cell_type": "code",
   "execution_count": null,
   "metadata": {},
   "outputs": [],
   "source": [
    "df_beneficiary_day_pivot_2.columns"
   ]
  },
  {
   "cell_type": "code",
   "execution_count": null,
   "metadata": {
    "scrolled": true
   },
   "outputs": [],
   "source": [
    "df_beneficiary_day_pivot_2.head()"
   ]
  },
  {
   "cell_type": "code",
   "execution_count": null,
   "metadata": {},
   "outputs": [],
   "source": [
    "#test to check the groupby result\n",
    "#Test1 =  df_beneficiary_day_pivot_2.loc[df_beneficiary_day_pivot_2['hcpcs_code'] == '0008M']\n",
    "#Test1"
   ]
  },
  {
   "cell_type": "code",
   "execution_count": null,
   "metadata": {},
   "outputs": [],
   "source": [
    "#df_beneficiary_day_pivot_2['hcpcs_code'].value_counts()"
   ]
  },
  {
   "cell_type": "code",
   "execution_count": null,
   "metadata": {},
   "outputs": [],
   "source": [
    "df_beneficiary_day_pivot_3= df_beneficiary_day_pivot_2.groupby(['hcpcs_code']).mean().reset_index()\n"
   ]
  },
  {
   "cell_type": "markdown",
   "metadata": {},
   "source": [
    "create data frame to include the top 100"
   ]
  },
  {
   "cell_type": "code",
   "execution_count": null,
   "metadata": {},
   "outputs": [],
   "source": [
    "#sorting head\n",
    "df_max_top_10 =df_beneficiary_day_pivot_2.sort_values('change_2017_2015',ascending= False).head(10)"
   ]
  },
  {
   "cell_type": "code",
   "execution_count": null,
   "metadata": {},
   "outputs": [],
   "source": [
    "df_max_top_10.head()"
   ]
  },
  {
   "cell_type": "markdown",
   "metadata": {},
   "source": [
    "create dataframe to include the 100 bottom"
   ]
  },
  {
   "cell_type": "code",
   "execution_count": null,
   "metadata": {},
   "outputs": [],
   "source": [
    "#sorting tail\n",
    "df_bottom_change_2017_2015 =df_beneficiary_day_pivot_3.sort_values('change_2017_2015',ascending= False).tail(100)"
   ]
  },
  {
   "cell_type": "code",
   "execution_count": null,
   "metadata": {},
   "outputs": [],
   "source": [
    "df_bottom_change_2017_2015.head()"
   ]
  },
  {
   "cell_type": "code",
   "execution_count": null,
   "metadata": {},
   "outputs": [],
   "source": [
    "print(df_beneficiary_day_pivot_3.shape)"
   ]
  },
  {
   "cell_type": "code",
   "execution_count": null,
   "metadata": {},
   "outputs": [],
   "source": [
    "#df['hcpcs_code'].value_counts(ascending=False)"
   ]
  },
  {
   "cell_type": "code",
   "execution_count": null,
   "metadata": {},
   "outputs": [],
   "source": [
    "#df.head()"
   ]
  },
  {
   "cell_type": "code",
   "execution_count": null,
   "metadata": {},
   "outputs": [],
   "source": [
    "#test to check the groupby results\n",
    "#Test2 =  df.loc[df['hcpcs_code'] == '84436']\n",
    "#Test2"
   ]
  },
  {
   "cell_type": "code",
   "execution_count": null,
   "metadata": {},
   "outputs": [],
   "source": [
    "#melt the dataframe on year column in order to plot it using scatter plot\n",
    "col=[2015, 2016, 2017]\n",
    "\n",
    "df_beneficiary_day_melt= df_beneficiary_day_pivot.melt(df_beneficiary_day_pivot,\n",
    "                                                         id_vars= \"hcpcs_code\",\n",
    "                                                         value_vars= col,\n",
    "                                                          var_name= 'year')"
   ]
  },
  {
   "cell_type": "code",
   "execution_count": null,
   "metadata": {},
   "outputs": [],
   "source": [
    "#select the top 100 and assign it to new data frame\n",
    "df_beneficiary_day_melt.sort_values('value',ascending= False).head(100)"
   ]
  },
  {
   "cell_type": "code",
   "execution_count": null,
   "metadata": {},
   "outputs": [],
   "source": [
    "#assign it to plot_data\n",
    "plot_data =df_beneficiary_day_melt.sort_values('value', ascending= False).head()"
   ]
  },
  {
   "cell_type": "code",
   "execution_count": null,
   "metadata": {},
   "outputs": [],
   "source": [
    "plot_data.head()"
   ]
  },
  {
   "cell_type": "code",
   "execution_count": null,
   "metadata": {},
   "outputs": [],
   "source": [
    "#chane the columns names\n",
    "plot_data.columns= ['HCPCS Code', 'Year', 'Average Beneficiary Days']"
   ]
  },
  {
   "cell_type": "code",
   "execution_count": null,
   "metadata": {},
   "outputs": [],
   "source": [
    "#print the columns names\n",
    "plot_data.columns"
   ]
  },
  {
   "cell_type": "code",
   "execution_count": null,
   "metadata": {},
   "outputs": [],
   "source": [
    "plot_data.head()"
   ]
  },
  {
   "cell_type": "code",
   "execution_count": null,
   "metadata": {},
   "outputs": [],
   "source": [
    "#plot scatter \n",
    "'''fig = px.scatter(plot_data, x =\"Average Beneficiary Days\", y =\"HCPCS Code\", color=\"Year\",\n",
    "                 title=\"Gender Earnings Disparity\",\n",
    "                 labels={\"Average Beneficiary Days\":\"Annual Salary (in thousands)\"} # customize axis label\n",
    "                )\n",
    "fig.show()'''"
   ]
  },
  {
   "cell_type": "code",
   "execution_count": null,
   "metadata": {},
   "outputs": [],
   "source": []
  }
 ],
 "metadata": {
  "kernelspec": {
   "display_name": "Python 3",
   "language": "python",
   "name": "python3"
  },
  "language_info": {
   "codemirror_mode": {
    "name": "ipython",
    "version": 3
   },
   "file_extension": ".py",
   "mimetype": "text/x-python",
   "name": "python",
   "nbconvert_exporter": "python",
   "pygments_lexer": "ipython3",
   "version": "3.7.3"
  }
 },
 "nbformat": 4,
 "nbformat_minor": 2
}
